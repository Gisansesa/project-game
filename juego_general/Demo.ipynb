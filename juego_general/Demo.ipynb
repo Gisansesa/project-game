{
 "cells": [
  {
   "cell_type": "code",
   "execution_count": null,
   "metadata": {},
   "outputs": [
    {
     "name": "stdout",
     "output_type": "stream",
     "text": [
      "Otro día igual que siempre, fuera de tus sueños lo único que puedes ver son estas letras dentro de tu cabeza.\n",
      "-HEY!\n",
      "-Ven, tengo que mostrarte algo.\n",
      "Caminas hacia donde está tu abuelo.\n",
      "-Pronto llegará el día en que no esté y tendrás que cuidarte por tu cuenta.\n",
      "-Tengo un regalo para ti, pero tendrás que aprender a dominarlo por tu cuenta\n",
      "VARA MÁGICA CONSEGUIDA\n",
      "ESCUDO MÁGICO CONSEGUIDO\n",
      "-Hora de entrenar un poco\n",
      "¿Deseas abandonar tutorial?\n",
      "Si   No\n"
     ]
    },
    {
     "name": "stdin",
     "output_type": "stream",
     "text": [
      " no\n"
     ]
    },
    {
     "name": "stdout",
     "output_type": "stream",
     "text": [
      "¿Qué quieres practicar?\n",
      "Esquivar                 Escapar                  Pelear\n",
      "Pistolero                Candado                  Acertijos\n",
      "Valiente                 Examen                   "
     ]
    },
    {
     "name": "stdin",
     "output_type": "stream",
     "text": [
      " escapar\n"
     ]
    },
    {
     "name": "stdout",
     "output_type": "stream",
     "text": [
      "Presiona barra espaciadora seguido de enter para correr tan rápido como puedas, trata de llegar a la meta antes de que se termine tu tiempo.\n",
      "Presiona enter para comenzar.\n"
     ]
    },
    {
     "name": "stdin",
     "output_type": "stream",
     "text": [
      " \n"
     ]
    },
    {
     "name": "stdout",
     "output_type": "stream",
     "text": [
      "PELIGRO\n",
      "Algo se aproxima...\n",
      "CORRE\n",
      "                 👺👺👺👺👺👺"
     ]
    },
    {
     "name": "stdin",
     "output_type": "stream",
     "text": [
      " \n"
     ]
    },
    {
     "name": "stdout",
     "output_type": "stream",
     "text": [
      "👺👺👺👺👺👺👺👺👺👺👺👺👺👺👺👺👺👺👺👺\r"
     ]
    },
    {
     "name": "stdin",
     "output_type": "stream",
     "text": [
      " \n"
     ]
    },
    {
     "name": "stdout",
     "output_type": "stream",
     "text": [
      "\n",
      "Necesitas ser más veloz, no llegaste a tiempo.\n",
      "¿Deseas abandonar tutorial?\n",
      "Si   No\n"
     ]
    }
   ],
   "source": [
    "import juego                  \n",
    "juego.start_game() "
   ]
  },
  {
   "cell_type": "code",
   "execution_count": 1,
   "metadata": {},
   "outputs": [],
   "source": [
    "import threading"
   ]
  },
  {
   "cell_type": "code",
   "execution_count": 6,
   "metadata": {},
   "outputs": [],
   "source": [
    "a=set('123')"
   ]
  },
  {
   "cell_type": "code",
   "execution_count": 9,
   "metadata": {},
   "outputs": [],
   "source": [
    "b=set([str(x) for x in range(10)])"
   ]
  },
  {
   "cell_type": "code",
   "execution_count": 10,
   "metadata": {},
   "outputs": [
    {
     "data": {
      "text/plain": [
       "True"
      ]
     },
     "execution_count": 10,
     "metadata": {},
     "output_type": "execute_result"
    }
   ],
   "source": [
    "a.issubset(b)"
   ]
  },
  {
   "cell_type": "code",
   "execution_count": 8,
   "metadata": {},
   "outputs": [
    {
     "data": {
      "text/plain": [
       "'Si'"
      ]
     },
     "execution_count": 8,
     "metadata": {},
     "output_type": "execute_result"
    }
   ],
   "source": [
    "'sI'.capitalize()"
   ]
  }
 ],
 "metadata": {
  "kernelspec": {
   "display_name": "Python 3",
   "language": "python",
   "name": "python3"
  },
  "language_info": {
   "codemirror_mode": {
    "name": "ipython",
    "version": 3
   },
   "file_extension": ".py",
   "mimetype": "text/x-python",
   "name": "python",
   "nbconvert_exporter": "python",
   "pygments_lexer": "ipython3",
   "version": "3.7.3"
  }
 },
 "nbformat": 4,
 "nbformat_minor": 4
}
