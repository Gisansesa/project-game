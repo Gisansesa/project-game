{
 "cells": [
  {
   "cell_type": "code",
   "execution_count": null,
   "metadata": {},
   "outputs": [
    {
     "name": "stdout",
     "output_type": "stream",
     "text": [
      "Otro día igual que siempre, fuera de tus sueños lo único que puedes ver son estas letras dentro de tu cabeza.\n",
      "-HEY!\n",
      "-Ven, tengo que mostrarte algo.\n",
      "Caminas hacia donde está tu abuelo.\n",
      "-Pronto llegará el día en que no esté y tendrás que cuidarte por tu cuenta.\n",
      "-Tengo un regalo pero tendrás que aprender a dominarlo por tu cuenta\n",
      "VARA MÁGICA CONSEGUIDA\n",
      "ESCUDO MÁGICO CONSEGUIDO\n",
      "-Hora de entrenar un poco\n",
      "¿Deseas abandonar tutorial?\n",
      "Si   No\n"
     ]
    },
    {
     "name": "stdin",
     "output_type": "stream",
     "text": [
      " no\n"
     ]
    },
    {
     "name": "stdout",
     "output_type": "stream",
     "text": [
      "¿Qué quieres practicar?\n",
      "Decisiones               Esquivar                 Escapar\n",
      "Pelear                   Pistolero                Candado\n",
      "Acertijos                Valiente                 Examen\n"
     ]
    },
    {
     "name": "stdin",
     "output_type": "stream",
     "text": [
      " examen\n"
     ]
    },
    {
     "name": "stdout",
     "output_type": "stream",
     "text": [
      "1.-¿Cuál de los siguientes es un gas noble? \n",
      "\n",
      "a)Cloro\n",
      "b)Oxígeno\n",
      "c)Metano\n",
      "d)Neón\n",
      "\r"
     ]
    },
    {
     "name": "stdin",
     "output_type": "stream",
     "text": [
      " d\n"
     ]
    },
    {
     "name": "stdout",
     "output_type": "stream",
     "text": [
      "Respuesta correcta.\n",
      "2.-¿Qué es Assasin's Creed? \n",
      "\n",
      "a)Una canción\n",
      "b)Un grupo musical\n",
      "c)Un videojuego\n",
      "d)Una serie\n",
      "\r"
     ]
    }
   ],
   "source": [
    "import juego\n",
    "juego.start_game()"
   ]
  },
  {
   "cell_type": "code",
   "execution_count": null,
   "metadata": {},
   "outputs": [],
   "source": []
  }
 ],
 "metadata": {
  "kernelspec": {
   "display_name": "Python 3",
   "language": "python",
   "name": "python3"
  },
  "language_info": {
   "codemirror_mode": {
    "name": "ipython",
    "version": 3
   },
   "file_extension": ".py",
   "mimetype": "text/x-python",
   "name": "python",
   "nbconvert_exporter": "python",
   "pygments_lexer": "ipython3",
   "version": "3.7.3"
  }
 },
 "nbformat": 4,
 "nbformat_minor": 4
}
